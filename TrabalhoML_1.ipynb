{
  "nbformat": 4,
  "nbformat_minor": 0,
  "metadata": {
    "colab": {
      "provenance": [],
      "authorship_tag": "ABX9TyMFN3W/KuXLdqI+k3QcVbsm",
      "include_colab_link": true
    },
    "kernelspec": {
      "name": "python3",
      "display_name": "Python 3"
    },
    "language_info": {
      "name": "python"
    }
  },
  "cells": [
    {
      "cell_type": "markdown",
      "metadata": {
        "id": "view-in-github",
        "colab_type": "text"
      },
      "source": [
        "<a href=\"https://colab.research.google.com/github/ricofelix/meu-projeto-ia-remoto/blob/main/TrabalhoML_2.ipynb\" target=\"_parent\"><img src=\"https://colab.research.google.com/assets/colab-badge.svg\" alt=\"Open In Colab\"/></a>"
      ]
    },
    {
      "cell_type": "markdown",
      "source": [
        "## **Projeto Final - Machine Learning I**\n",
        "\n",
        "O projeto de finalização de módulo consiste em um fluxo de trabalho completo com Machine Learning. Para desenvolvê-lo, vocês devem escolher um dataset no Kaggle e desenvolver de ponta a ponta uma solução que utilize aprendizado de máquina.\n",
        "Vamos ao passo a passo:\n",
        "\n",
        "1.\tEscolha um Dataset no Kaggle\n",
        "\n",
        "i.\tUm bom dataset para o projeto contêm pelo menos 1000 linhas\n",
        "\n",
        "2.\tDefina um problema de negócio a resolver com o Dataset (quero prever X, quero estimar Y)\n",
        "3.\tFaça o tratamento dos dados e as transformações que achar pertinentes usando o Pandas\n",
        "4.\tDetermine a métrica de avaliação do seu modelo\n",
        "5.\tElabore a solução de Machine Learning, usando pelo menos 2 estimadores (para comparar os resultados)\n",
        "6.\tFaça a otimização de hiperparametros para ambos os estimadores (usando o método mais adequado) e maximize a métrica de interesse.\n",
        "7.\tCompare os modelos e escolha o melhor\n",
        "8.\tResponda as perguntas:\n",
        "i.\tMeu modelo resolve adequadamente o problema proposto?\n",
        "ii.\tMeu modelo pode ser colocado em produção?\n"
      ],
      "metadata": {
        "id": "Rgz3h_C5cbPH"
      }
    },
    {
      "cell_type": "markdown",
      "source": [],
      "metadata": {
        "id": "G2x9fIVYebQX"
      }
    },
    {
      "cell_type": "markdown",
      "source": [
        "# **1 Escolha um Dataset no Kaggle**\n",
        "\n",
        "i. Um bom dataset para o projeto contêm pelo menos 1000 linhas.\n",
        "\n",
        "Vamos Trabalhar com o Dataset Bank_Personal_Loan_Modelling.csv\n",
        "\n",
        "O dataset tem 5000 linhas e 14 colunas.\n",
        "\n",
        "As principais colunas são: **Age**, **Experience**, **Income, Family, CCAvg (gasto médio no cartão), Education, Mortgage, Personal Loan** (empréstimo pessoal: alvo), e diversos tipos de contas e serviços bancários.\n",
        "\n",
        "\n",
        "\n"
      ],
      "metadata": {
        "id": "o5NFGXrLc2tJ"
      }
    },
    {
      "cell_type": "code",
      "source": [
        "import pandas as pd\n",
        "df = pd.read_csv('Bank_Personal_Loan_Modelling.csv')\n",
        "df.head()\n",
        "print(\n",
        "    df.shape\n",
        ")"
      ],
      "metadata": {
        "colab": {
          "base_uri": "https://localhost:8080/"
        },
        "id": "JbFPD4h_h3m8",
        "outputId": "846e74ed-b085-4955-ab85-588cc3479043"
      },
      "execution_count": 26,
      "outputs": [
        {
          "output_type": "stream",
          "name": "stdout",
          "text": [
            "(5000, 14)\n"
          ]
        }
      ]
    },
    {
      "cell_type": "markdown",
      "source": [
        "# **2. Definição do Problema de Negócio**\n",
        "\n",
        "Vamos prever se um cliente aceitará ou nao um emprestimo pessoal ( Personal Loan) usando as informações do perfil Bancário\n",
        "\n",
        "Para isso vamos utilizar a **Classificação binária**\n",
        "\n"
      ],
      "metadata": {
        "id": "LzXX_24NezIJ"
      }
    },
    {
      "cell_type": "markdown",
      "source": [
        "# 3.\t**Faça o tratamento dos dados e as transformações**\n",
        "\n"
      ],
      "metadata": {
        "id": "0C3NFKDUgh6Z"
      }
    },
    {
      "cell_type": "markdown",
      "source": [
        "Vamos remover as colunas **ID** e **ZIP Code** , pois não tem utilidade para previsão."
      ],
      "metadata": {
        "id": "2Gt6Uop-hLK-"
      }
    },
    {
      "cell_type": "code",
      "source": [
        "df_ml = df.drop(columns=['ID', 'ZIP Code'])\n",
        "print(df_ml.isnull().sum())\n",
        "print(df_ml.duplicated().sum())\n",
        "df_clean = df_ml.drop_duplicates().reset_index(drop=True)\n",
        "print(df_clean.describe().T)"
      ],
      "metadata": {
        "colab": {
          "base_uri": "https://localhost:8080/"
        },
        "id": "qUsXRRN3iclp",
        "outputId": "f102601f-1919-46bf-85a0-6aa7dd78c993"
      },
      "execution_count": 27,
      "outputs": [
        {
          "output_type": "stream",
          "name": "stdout",
          "text": [
            "Age                   0\n",
            "Experience            0\n",
            "Income                0\n",
            "Family                0\n",
            "CCAvg                 0\n",
            "Education             0\n",
            "Mortgage              0\n",
            "Personal Loan         0\n",
            "Securities Account    0\n",
            "CD Account            0\n",
            "Online                0\n",
            "CreditCard            0\n",
            "dtype: int64\n",
            "13\n",
            "                     count       mean         std   min   25%   50%    75%  \\\n",
            "Age                 4987.0  45.347704   11.460838  23.0  35.0  45.0   55.0   \n",
            "Experience          4987.0  20.114498   11.464902  -3.0  10.0  20.0   30.0   \n",
            "Income              4987.0  73.824544   46.062728   8.0  39.0  64.0   98.0   \n",
            "Family              4987.0   2.396631    1.147510   1.0   1.0   2.0    3.0   \n",
            "CCAvg               4987.0   1.940630    1.748824   0.0   0.7   1.5    2.6   \n",
            "Education           4987.0   1.879286    0.839667   1.0   1.0   2.0    3.0   \n",
            "Mortgage            4987.0  56.646080  101.805341   0.0   0.0   0.0  101.0   \n",
            "Personal Loan       4987.0   0.096250    0.294964   0.0   0.0   0.0    0.0   \n",
            "Securities Account  4987.0   0.104672    0.306161   0.0   0.0   0.0    0.0   \n",
            "CD Account          4987.0   0.060557    0.238541   0.0   0.0   0.0    0.0   \n",
            "Online              4987.0   0.596150    0.490717   0.0   0.0   1.0    1.0   \n",
            "CreditCard          4987.0   0.294566    0.455893   0.0   0.0   0.0    1.0   \n",
            "\n",
            "                      max  \n",
            "Age                  67.0  \n",
            "Experience           43.0  \n",
            "Income              224.0  \n",
            "Family                4.0  \n",
            "CCAvg                10.0  \n",
            "Education             3.0  \n",
            "Mortgage            635.0  \n",
            "Personal Loan         1.0  \n",
            "Securities Account    1.0  \n",
            "CD Account            1.0  \n",
            "Online                1.0  \n",
            "CreditCard            1.0  \n"
          ]
        }
      ]
    },
    {
      "cell_type": "markdown",
      "source": [
        "# **4.\tDetermine a métrica de avaliação do seu modelo**"
      ],
      "metadata": {
        "id": "jDqABIt7jmM0"
      }
    },
    {
      "cell_type": "markdown",
      "source": [
        "Aqui vamos efetuar o treinamento e teste dos dados"
      ],
      "metadata": {
        "id": "-1TKT1UrkbBb"
      }
    },
    {
      "cell_type": "code",
      "source": [
        "from sklearn.preprocessing import StandardScaler\n",
        "from sklearn.model_selection import train_test_split\n",
        "\n",
        "# Separar variáveis preditoras e alvo\n",
        "X = df_clean.drop('Personal Loan', axis=1)\n",
        "y = df_clean['Personal Loan']\n",
        "\n",
        "# Normalizar variáveis contínuas\n",
        "num_cols = ['Age', 'Experience', 'Income', 'CCAvg', 'Mortgage']\n",
        "scaler = StandardScaler()\n",
        "X[num_cols] = scaler.fit_transform(X[num_cols])\n",
        "\n",
        "# Separar conjunto de treino e teste\n",
        "X_train, X_test, y_train, y_test = train_test_split(\n",
        "    X, y, test_size=0.25, random_state=42, stratify=y\n",
        ")\n",
        "\n",
        "# Conferir os formatos\n",
        "print('Treino:', X_train.shape)\n",
        "print('Teste:', X_test.shape)\n",
        "print('Total:', df_clean.shape[0])\n"
      ],
      "metadata": {
        "colab": {
          "base_uri": "https://localhost:8080/"
        },
        "id": "MJBVSa4Zj232",
        "outputId": "4db55cd8-e489-43b1-f088-a88f569ae26a"
      },
      "execution_count": 28,
      "outputs": [
        {
          "output_type": "stream",
          "name": "stdout",
          "text": [
            "Treino: (3740, 11)\n",
            "Teste: (1247, 11)\n",
            "Total: 4987\n"
          ]
        }
      ]
    },
    {
      "cell_type": "markdown",
      "source": [
        "# **5.\tElabore a solução de Machine Learning, usando pelo menos 2 estimadores (para comparar os resultados)**\n",
        "\n",
        "Vamos utilizar a Arvore de Decisão e Random Forest\n",
        "\n"
      ],
      "metadata": {
        "id": "jWl2xh8ak61n"
      }
    },
    {
      "cell_type": "code",
      "source": [
        "# Importando algoritmos e métricas de avaliação\n",
        "from sklearn.tree import DecisionTreeClassifier\n",
        "from sklearn.ensemble import RandomForestClassifier\n",
        "from sklearn.metrics import accuracy_score, roc_auc_score\n",
        "# Inicializando os modelos\n",
        "dt_model = DecisionTreeClassifier(random_state=42)    # Árvore de Decisão\n",
        "rf_model = RandomForestClassifier(random_state=42)    # Random Forest\n",
        "\n",
        "# Treinando os modelos com os dados de Treino\n",
        "dt_model.fit(X_train, y_train)\n",
        "rf_model.fit(X_train, y_train)\n",
        "\n",
        "# Usando os modelos para prever dados de teste\n",
        "dt_pred = dt_model.predict(X_test)\n",
        "rf_pred = rf_model.predict(X_test)\n",
        "\n",
        "# Calculando a Acurácia: Porcentagem de acerto entre a previsao e a verdade\n",
        "dt_acuracia = accuracy_score(y_test, dt_pred)\n",
        "rf_acuracia = accuracy_score(y_test, rf_pred)\n",
        "\n",
        "#Caulculando AUC-ROC\n",
        "dt_auc= roc_auc_score(y_test, dt_model.predict_proba(X_test)[:, 1])\n",
        "rf_auc= roc_auc_score(y_test, rf_model.predict_proba(X_test)[:, 1])\n",
        "\n",
        "# Mostrando resultados na tela\n",
        "print(f'Acurácia Árvore de Decisão: {dt_acuracia:.4f} | AUC: {dt_auc:.4f}')\n",
        "print(f'Acurácia Random Forest:    {rf_acuracia:.4f} | AUC: {rf_auc:.4f}')"
      ],
      "metadata": {
        "colab": {
          "base_uri": "https://localhost:8080/"
        },
        "id": "DwwFjXYWn0YK",
        "outputId": "bf8b8e01-bab1-48c0-9aad-93844c1353ff"
      },
      "execution_count": 29,
      "outputs": [
        {
          "output_type": "stream",
          "name": "stdout",
          "text": [
            "Acurácia Árvore de Decisão: 0.9880 | AUC: 0.9785\n",
            "Acurácia Random Forest:    0.9936 | AUC: 0.9981\n"
          ]
        }
      ]
    },
    {
      "cell_type": "markdown",
      "source": [
        "# **6.\tFaça a otimização de hiperparametros para ambos os estimadores (usando o método mais adequado) e maximize a métrica de interesse.**"
      ],
      "metadata": {
        "id": "DiuOdXfklLX5"
      }
    },
    {
      "cell_type": "code",
      "source": [
        "from sklearn.model_selection import GridSearchCV\n",
        "\n",
        "# Otimizando Árvore de Decisão\n",
        "dt_params = {\n",
        "    'max_depth': [3, 5, 7, 10, None],\n",
        "    'criterion': ['gini', 'entropy']\n",
        "}\n",
        "dt_grid = GridSearchCV(DecisionTreeClassifier(random_state=42), dt_params,\n",
        "                       scoring='roc_auc', cv=5, n_jobs=-1)\n",
        "dt_grid.fit(X_train, y_train)\n",
        "\n",
        "# Melhor configuração encontrada\n",
        "print('Melhor Árvore de Decisão:', dt_grid.best_params_)\n",
        "\n",
        "# Otimizando Random Forest\n",
        "rf_params = {\n",
        "    'n_estimators': [50, 100, 200],\n",
        "    'max_depth': [5, 10, None],\n",
        "    'criterion': ['gini', 'entropy']\n",
        "}\n",
        "rf_grid = GridSearchCV(RandomForestClassifier(random_state=42), rf_params,\n",
        "                       scoring='roc_auc', cv=5, n_jobs=-1)\n",
        "rf_grid.fit(X_train, y_train)\n",
        "\n",
        "# Melhor configuração encontrada\n",
        "print('Melhor Random Forest:', rf_grid.best_params_)"
      ],
      "metadata": {
        "colab": {
          "base_uri": "https://localhost:8080/"
        },
        "id": "64B11arQqDWU",
        "outputId": "be4e195b-f29d-4381-95e5-2c6884d12009"
      },
      "execution_count": 30,
      "outputs": [
        {
          "output_type": "stream",
          "name": "stdout",
          "text": [
            "Melhor Árvore de Decisão: {'criterion': 'entropy', 'max_depth': 3}\n",
            "Melhor Random Forest: {'criterion': 'gini', 'max_depth': None, 'n_estimators': 100}\n"
          ]
        }
      ]
    },
    {
      "cell_type": "markdown",
      "source": [
        "# **7.\tCompare os modelos e escolha o melhor**"
      ],
      "metadata": {
        "id": "OkE1S7AmlQ6a"
      }
    },
    {
      "cell_type": "code",
      "source": [
        "# Pegando os melhores modelos treinados pelo GridSearchCV\n",
        "best_dt = dt_grid.best_estimator_\n",
        "best_rf = rf_grid.best_estimator_\n",
        "\n",
        "# Fazendo previsões com os modelos otimizados\n",
        "dt_pred = best_dt.predict(X_test)\n",
        "rf_pred = best_rf.predict(X_test)\n",
        "\n",
        "# Calculando acurácia e AUC-ROC nos dados de teste\n",
        "dt_accuracy = accuracy_score(y_test, dt_pred)\n",
        "rf_accuracy = accuracy_score(y_test, rf_pred)\n",
        "\n",
        "dt_auc = roc_auc_score(y_test, best_dt.predict_proba(X_test)[:, 1])\n",
        "rf_auc = roc_auc_score(y_test, best_rf.predict_proba(X_test)[:, 1])\n",
        "\n",
        "print(f\"Árvore de Decisão - Accuracy: {dt_accuracy:.4f} | AUC: {dt_auc:.4f}\")\n",
        "print(f\"Random Forest     - Accuracy: {rf_accuracy:.4f} | AUC: {rf_auc:.4f}\")\n",
        "\n",
        "# Comparando resultados lado a lado\n",
        "if rf_auc > dt_auc:\n",
        "    print(\"O modelo Random Forest teve o melhor desempenho e deve ser escolhido para produção.\")\n",
        "else:\n",
        "    print(\"O modelo Árvore de Decisão teve o melhor desempenho e deve ser escolhido para produção.\")"
      ],
      "metadata": {
        "colab": {
          "base_uri": "https://localhost:8080/"
        },
        "id": "WhQaXug0rtBh",
        "outputId": "1bda2f55-676b-41bc-9083-9a068dbdf0d9"
      },
      "execution_count": 31,
      "outputs": [
        {
          "output_type": "stream",
          "name": "stdout",
          "text": [
            "Árvore de Decisão - Accuracy: 0.9824 | AUC: 0.9946\n",
            "Random Forest     - Accuracy: 0.9936 | AUC: 0.9981\n",
            "O modelo Random Forest teve o melhor desempenho e deve ser escolhido para produção.\n"
          ]
        }
      ]
    },
    {
      "cell_type": "markdown",
      "source": [
        "# **8.\tResponda as perguntas:**\n",
        "\n",
        "**i.\tMeu modelo resolve adequadamente o problema proposto?**\n",
        "\n",
        "Após realizar todas as etapas do projeto, consegui treinar e avaliar dois algoritmos clássicos de classificação para prever a aceitação do empréstimo pessoal. Um dos modelos, o Random Forest, apresentou um desempenho bastante satisfatório: a métrica AUC-ROC ficou elevada, indicando que o modelo separa bem quem provavelmente vai aceitar o empréstimo daqueles que não vão. A acurácia também ficou boa, mas como o importante no contexto bancário é identificar corretamente os clientes com maior chance de contratação, foquei mais na métrica AUC.\n",
        "Portanto, sim, entendo que o modelo resolve o problema proposto e pode ser usado com segurança para apoiar decisões sobre oferta de empréstimos."
      ],
      "metadata": {
        "id": "kKlPIsqglVRy"
      }
    },
    {
      "cell_type": "markdown",
      "source": [
        "**ii.\tMeu modelo pode ser colocado em produção?**\n",
        "\n",
        "O pipeline está pronto para implantação. Os dados passaram pelas etapas necessárias para garantir qualidade (limpeza, normalização, retirada de duplicidades, validação do modelo em dados independentes). O modelo que teve melhor desempenho pode ser salvo e utilizado num sistema de produção, tanto via API quanto integrado a processos internos.\n",
        "Naturalmente, recomendo sempre continuar monitorando os resultados, revisando o modelo conforme novas informações estiverem disponíveis e fazendo atualizações quando necessário para garantir que a performance se mantenha confiável."
      ],
      "metadata": {
        "id": "LAfzk6zPtHqe"
      }
    }
  ]
}
